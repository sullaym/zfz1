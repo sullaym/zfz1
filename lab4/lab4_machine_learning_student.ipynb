


<!DOCTYPE html>
<html lang="en" class="">
  <head prefix="og: http://ogp.me/ns# fb: http://ogp.me/ns/fb# object: http://ogp.me/ns/object# article: http://ogp.me/ns/article# profile: http://ogp.me/ns/profile#">
    <meta charset='utf-8'>
    <meta http-equiv="X-UA-Compatible" content="IE=edge">
    <meta http-equiv="Content-Language" content="en">
    
    
    <title>History for lab4_machine_learning_student.ipynb - spark-mooc/mooc-setup</title>
    <link rel="search" type="application/opensearchdescription+xml" href="/opensearch.xml" title="GitHub">
    <link rel="fluid-icon" href="https://github.com/fluidicon.png" title="GitHub">
    <link rel="apple-touch-icon" sizes="57x57" href="/apple-touch-icon-114.png">
    <link rel="apple-touch-icon" sizes="114x114" href="/apple-touch-icon-114.png">
    <link rel="apple-touch-icon" sizes="72x72" href="/apple-touch-icon-144.png">
    <link rel="apple-touch-icon" sizes="144x144" href="/apple-touch-icon-144.png">
    <meta property="fb:app_id" content="1401488693436528">

      <meta content="@github" name="twitter:site" /><meta content="summary" name="twitter:card" /><meta content="spark-mooc/mooc-setup" name="twitter:title" /><meta content="mooc-setup - Information for setting up for the BerkeleyX Spark Intro MOOC, and lab assignments for the course" name="twitter:description" /><meta content="https://avatars3.githubusercontent.com/u/12368613?v=3&amp;s=400" name="twitter:image:src" />
      <meta content="GitHub" property="og:site_name" /><meta content="object" property="og:type" /><meta content="https://avatars3.githubusercontent.com/u/12368613?v=3&amp;s=400" property="og:image" /><meta content="spark-mooc/mooc-setup" property="og:title" /><meta content="https://github.com/spark-mooc/mooc-setup" property="og:url" /><meta content="mooc-setup - Information for setting up for the BerkeleyX Spark Intro MOOC, and lab assignments for the course" property="og:description" />
      <meta name="browser-stats-url" content="https://api.github.com/_private/browser/stats">
    <meta name="browser-errors-url" content="https://api.github.com/_private/browser/errors">
    <link rel="assets" href="https://assets-cdn.github.com/">
    <link rel="web-socket" href="wss://live.github.com/_sockets/Njc3MzYzOjUxYzlmZmJhZTM3NTA2OWQ3OTNkMDgwNzJjM2QyMDc5OjA3OWMyYWJhOTFiYjc2ZGI3MTNiMDQ5M2IxODgwY2QyMzcwNDg2MjNjYWY2OGUzOGNmZGU0ZWZhZDkzMWEyNzk=--47169c1cf10dcbee9638ec5a6fc1f66e7b9a25a3">
    <meta name="pjax-timeout" content="1000">
    <link rel="sudo-modal" href="/sessions/sudo_modal">

    <meta name="msapplication-TileImage" content="/windows-tile.png">
    <meta name="msapplication-TileColor" content="#ffffff">
    <meta name="selected-link" value="repo_source" data-pjax-transient>

        <meta name="google-analytics" content="UA-3769691-2">

    <meta content="collector.githubapp.com" name="octolytics-host" /><meta content="collector-cdn.github.com" name="octolytics-script-host" /><meta content="github" name="octolytics-app-id" /><meta content="2D4F5D29:0FF4:4372812:558FBCFE" name="octolytics-dimension-request_id" /><meta content="677363" name="octolytics-actor-id" /><meta content="zfz" name="octolytics-actor-login" /><meta content="de258543c498430c2bfc17972ab74f22dc9f0624795f2b18842a8c5acad4058d" name="octolytics-actor-hash" />
    
    <meta content="Rails, view, commits#show" name="analytics-event" />
    <meta class="js-ga-set" name="dimension1" content="Logged In">
    <meta name="is-dotcom" content="true">
      <meta name="hostname" content="github.com">
    <meta name="user-login" content="zfz">

      <link rel="icon" sizes="any" mask href="https://assets-cdn.github.com/pinned-octocat.svg">
      <meta name="theme-color" content="#4078c0">
      <link rel="icon" type="image/x-icon" href="https://assets-cdn.github.com/favicon.ico">


    <meta content="authenticity_token" name="csrf-param" />
<meta content="a9QQfAi6mluu39P7xjDLB8mN+ZxhmEPBxoqPkDq2YPhOGkaTNn+hF3YLi/9SmuOlquRhjMUyFHDA1DQcbVB0HQ==" name="csrf-token" />

    <link crossorigin="anonymous" href="https://assets-cdn.github.com/assets/github/index-92f695d016fa2589aca5a191af0ebb39db49a57eaf23a045c8b2d79107c380dc.css" media="all" rel="stylesheet" />
    <link crossorigin="anonymous" href="https://assets-cdn.github.com/assets/github2/index-53b81bbd58011083c0ec0ad891de925f2dc177a927a56ebeed25af072f386e72.css" media="all" rel="stylesheet" />
    
    


    <meta http-equiv="x-pjax-version" content="0583d2af982402f4347c7b2ddba918d9">

      
  <meta name="description" content="mooc-setup - Information for setting up for the BerkeleyX Spark Intro MOOC, and lab assignments for the course">
  <meta name="go-import" content="github.com/spark-mooc/mooc-setup git https://github.com/spark-mooc/mooc-setup.git">

  <meta content="12368613" name="octolytics-dimension-user_id" /><meta content="spark-mooc" name="octolytics-dimension-user_login" /><meta content="35860242" name="octolytics-dimension-repository_id" /><meta content="spark-mooc/mooc-setup" name="octolytics-dimension-repository_nwo" /><meta content="true" name="octolytics-dimension-repository_public" /><meta content="false" name="octolytics-dimension-repository_is_fork" /><meta content="35860242" name="octolytics-dimension-repository_network_root_id" /><meta content="spark-mooc/mooc-setup" name="octolytics-dimension-repository_network_root_nwo" />
  <link href="https://github.com/spark-mooc/mooc-setup/commits/master.atom" rel="alternate" title="Recent Commits to mooc-setup:master" type="application/atom+xml">

  </head>


  <body class="logged_in  env-production macintosh vis-public">
    <a href="#start-of-content" tabindex="1" class="accessibility-aid js-skip-to-content">Skip to content</a>
    <div class="wrapper">
      
      
      


        <div class="header header-logged-in true" role="banner">
  <div class="container clearfix">

    <a class="header-logo-invertocat" href="https://github.com/" data-hotkey="g d" aria-label="Homepage" data-ga-click="Header, go to dashboard, icon:logo">
  <img src="https://assets-cdn.github.com/images/icons/pridetocat.png" width="28" height="28" class="octicon-mark-github pridetocat" alt="GitHub">
</a>


      <div class="site-search repo-scope js-site-search" role="search">
          <form accept-charset="UTF-8" action="/spark-mooc/mooc-setup/search" class="js-site-search-form" data-global-search-url="/search" data-repo-search-url="/spark-mooc/mooc-setup/search" method="get"><div style="margin:0;padding:0;display:inline"><input name="utf8" type="hidden" value="&#x2713;" /></div>
  <label class="js-chromeless-input-container form-control">
    <div class="scope-badge">This repository</div>
    <input type="text"
      class="js-site-search-focus js-site-search-field is-clearable chromeless-input"
      data-hotkey="s"
      name="q"
      placeholder="Search"
      data-global-scope-placeholder="Search GitHub"
      data-repo-scope-placeholder="Search"
      tabindex="1"
      autocapitalize="off">
  </label>
</form>
      </div>

      <ul class="header-nav left" role="navigation">
        <li class="header-nav-item">
          <a href="/pulls" class="js-selected-navigation-item header-nav-link" data-ga-click="Header, click, Nav menu - item:pulls context:user" data-hotkey="g p" data-selected-links="/pulls /pulls/assigned /pulls/mentioned /pulls">
            Pull requests
</a>        </li>
        <li class="header-nav-item">
          <a href="/issues" class="js-selected-navigation-item header-nav-link" data-ga-click="Header, click, Nav menu - item:issues context:user" data-hotkey="g i" data-selected-links="/issues /issues/assigned /issues/mentioned /issues">
            Issues
</a>        </li>
          <li class="header-nav-item">
            <a class="header-nav-link" href="https://gist.github.com" data-ga-click="Header, go to gist, text:gist">Gist</a>
          </li>
      </ul>

    
<ul class="header-nav user-nav right" id="user-links">
  <li class="header-nav-item">
      <span class="js-socket-channel js-updatable-content"
        data-channel="notification-changed:zfz"
        data-url="/notifications/header">
      <a href="/notifications" aria-label="You have no unread notifications" class="header-nav-link notification-indicator tooltipped tooltipped-s" data-ga-click="Header, go to notifications, icon:read" data-hotkey="g n">
          <span class="mail-status all-read"></span>
          <span class="octicon octicon-inbox"></span>
</a>  </span>

  </li>

  <li class="header-nav-item dropdown js-menu-container">
    <a class="header-nav-link tooltipped tooltipped-s js-menu-target" href="/new"
       aria-label="Create new..."
       data-ga-click="Header, create new, icon:add">
      <span class="octicon octicon-plus left"></span>
      <span class="dropdown-caret"></span>
    </a>

    <div class="dropdown-menu-content js-menu-content">
      <ul class="dropdown-menu dropdown-menu-sw">
        
<a class="dropdown-item" href="/new" data-ga-click="Header, create new repository">
  New repository
</a>


  <a class="dropdown-item" href="/organizations/new" data-ga-click="Header, create new organization">
    New organization
  </a>



  <div class="dropdown-divider"></div>
  <div class="dropdown-header">
    <span title="spark-mooc/mooc-setup">This repository</span>
  </div>
    <a class="dropdown-item" href="/spark-mooc/mooc-setup/issues/new" data-ga-click="Header, create new issue">
      New issue
    </a>

      </ul>
    </div>
  </li>

  <li class="header-nav-item dropdown js-menu-container">
    <a class="header-nav-link name tooltipped tooltipped-s js-menu-target" href="/zfz"
       aria-label="View profile and more"
       data-ga-click="Header, show menu, icon:avatar">
      <img alt="@zfz" class="avatar" height="20" src="https://avatars2.githubusercontent.com/u/677363?v=3&amp;s=40" width="20" />
      <span class="dropdown-caret"></span>
    </a>

    <div class="dropdown-menu-content js-menu-content">
      <div class="dropdown-menu dropdown-menu-sw">
        <div class="dropdown-header header-nav-current-user css-truncate">
          Signed in as <strong class="css-truncate-target">zfz</strong>
        </div>
        <div class="dropdown-divider"></div>

        <a class="dropdown-item" href="/zfz" data-ga-click="Header, go to profile, text:your profile">
          Your profile
        </a>
        <a class="dropdown-item" href="/stars" data-ga-click="Header, go to starred repos, text:your stars">
          Your stars
        </a>
        <a class="dropdown-item" href="/explore" data-ga-click="Header, go to explore, text:explore">
          Explore
        </a>
        <a class="dropdown-item" href="https://help.github.com" data-ga-click="Header, go to help, text:help">
          Help
        </a>
        <div class="dropdown-divider"></div>

        <a class="dropdown-item" href="/settings/profile" data-ga-click="Header, go to settings, icon:settings">
          Settings
        </a>

        <form accept-charset="UTF-8" action="/logout" class="logout-form" method="post"><div style="margin:0;padding:0;display:inline"><input name="utf8" type="hidden" value="&#x2713;" /><input name="authenticity_token" type="hidden" value="EJoQjhAf4CNrV6L5/uVr9HieF41LoyVGfKIexh+XDizmpg9phBQlv3kul+tXpZk5YqnL/5dcIPFZB4PBbJ1f9w==" /></div>
          <button class="dropdown-item dropdown-signout" data-ga-click="Header, sign out, icon:logout">
            Sign out
          </button>
</form>      </div>
    </div>
  </li>
</ul>


    
  </div>
</div>

        

        


      <div id="start-of-content" class="accessibility-aid"></div>
          <div class="site" itemscope itemtype="http://schema.org/WebPage">
    <div id="js-flash-container">
      
    </div>
    <div class="pagehead repohead instapaper_ignore readability-menu">
      <div class="container">

        
<ul class="pagehead-actions">

  <li>
      <form accept-charset="UTF-8" action="/notifications/subscribe" class="js-social-container" data-autosubmit="true" data-remote="true" method="post"><div style="margin:0;padding:0;display:inline"><input name="utf8" type="hidden" value="&#x2713;" /><input name="authenticity_token" type="hidden" value="bXXoZb6SI9fCOZO95gSRv4WKqC1BVoz/KrGaRGeK7t+rsshDKDOFcjDjaGJnrHNxxP/Tx4Ynjz69enoVo9WrEQ==" /></div>    <input id="repository_id" name="repository_id" type="hidden" value="35860242" />

      <div class="select-menu js-menu-container js-select-menu">
        <a href="/spark-mooc/mooc-setup/subscription"
          class="btn btn-sm btn-with-count select-menu-button js-menu-target" role="button" tabindex="0" aria-haspopup="true"
          data-ga-click="Repository, click Watch settings, action:commits#show">
          <span class="js-select-button">
            <span class="octicon octicon-eye"></span>
            Watch
          </span>
        </a>
        <a class="social-count js-social-count" href="/spark-mooc/mooc-setup/watchers">
          20
        </a>

        <div class="select-menu-modal-holder">
          <div class="select-menu-modal subscription-menu-modal js-menu-content" aria-hidden="true">
            <div class="select-menu-header">
              <span class="select-menu-title">Notifications</span>
              <span class="octicon octicon-x js-menu-close" role="button" aria-label="Close"></span>
            </div>

            <div class="select-menu-list js-navigation-container" role="menu">

              <div class="select-menu-item js-navigation-item selected" role="menuitem" tabindex="0">
                <span class="select-menu-item-icon octicon octicon-check"></span>
                <div class="select-menu-item-text">
                  <input checked="checked" id="do_included" name="do" type="radio" value="included" />
                  <span class="select-menu-item-heading">Not watching</span>
                  <span class="description">Be notified when participating or @mentioned.</span>
                  <span class="js-select-button-text hidden-select-button-text">
                    <span class="octicon octicon-eye"></span>
                    Watch
                  </span>
                </div>
              </div>

              <div class="select-menu-item js-navigation-item " role="menuitem" tabindex="0">
                <span class="select-menu-item-icon octicon octicon octicon-check"></span>
                <div class="select-menu-item-text">
                  <input id="do_subscribed" name="do" type="radio" value="subscribed" />
                  <span class="select-menu-item-heading">Watching</span>
                  <span class="description">Be notified of all conversations.</span>
                  <span class="js-select-button-text hidden-select-button-text">
                    <span class="octicon octicon-eye"></span>
                    Unwatch
                  </span>
                </div>
              </div>

              <div class="select-menu-item js-navigation-item " role="menuitem" tabindex="0">
                <span class="select-menu-item-icon octicon octicon-check"></span>
                <div class="select-menu-item-text">
                  <input id="do_ignore" name="do" type="radio" value="ignore" />
                  <span class="select-menu-item-heading">Ignoring</span>
                  <span class="description">Never be notified.</span>
                  <span class="js-select-button-text hidden-select-button-text">
                    <span class="octicon octicon-mute"></span>
                    Stop ignoring
                  </span>
                </div>
              </div>

            </div>

          </div>
        </div>
      </div>
</form>
  </li>

  <li>
    
  <div class="js-toggler-container js-social-container starring-container ">

    <form accept-charset="UTF-8" action="/spark-mooc/mooc-setup/unstar" class="js-toggler-form starred js-unstar-button" data-remote="true" method="post"><div style="margin:0;padding:0;display:inline"><input name="utf8" type="hidden" value="&#x2713;" /><input name="authenticity_token" type="hidden" value="yUGtuY6uP/CzBqA3bySaEYBWB4cAgslz4wh4qz8ZzvczuipZmpguWPCMO9DD8MTY2TBaA9g0QiZk7tabVnwa/w==" /></div>
      <button
        class="btn btn-sm btn-with-count js-toggler-target"
        aria-label="Unstar this repository" title="Unstar spark-mooc/mooc-setup"
        data-ga-click="Repository, click unstar button, action:commits#show; text:Unstar">
        <span class="octicon octicon-star"></span>
        Unstar
      </button>
        <a class="social-count js-social-count" href="/spark-mooc/mooc-setup/stargazers">
          56
        </a>
</form>
    <form accept-charset="UTF-8" action="/spark-mooc/mooc-setup/star" class="js-toggler-form unstarred js-star-button" data-remote="true" method="post"><div style="margin:0;padding:0;display:inline"><input name="utf8" type="hidden" value="&#x2713;" /><input name="authenticity_token" type="hidden" value="cbQx1SXRQzI4CcaGWIWNGuk8a+FM7CIMbcc3wYQN1wawcODUWf4JbRAXqNdTb7T2Va1m/eDsOQssaJVkFGmj1A==" /></div>
      <button
        class="btn btn-sm btn-with-count js-toggler-target"
        aria-label="Star this repository" title="Star spark-mooc/mooc-setup"
        data-ga-click="Repository, click star button, action:commits#show; text:Star">
        <span class="octicon octicon-star"></span>
        Star
      </button>
        <a class="social-count js-social-count" href="/spark-mooc/mooc-setup/stargazers">
          56
        </a>
</form>  </div>

  </li>

        <li>
          <form accept-charset="UTF-8" action="/spark-mooc/mooc-setup/fork" method="post"><div style="margin:0;padding:0;display:inline"><input name="utf8" type="hidden" value="&#x2713;" /><input name="authenticity_token" type="hidden" value="Edy5SvZihE3WeUca76DfBVrSyhior8VZ/narU1nqfsk/mK3x1vEwqyIwe/oHsEPxdaz+hbjwjnhtwGL9COp9EA==" /></div>
            <button
                type="submit"
                class="btn btn-sm btn-with-count"
                data-ga-click="Repository, show fork modal, action:commits#show; text:Fork"
                title="Fork your own copy of spark-mooc/mooc-setup to your account"
                aria-label="Fork your own copy of spark-mooc/mooc-setup to your account">
              <span class="octicon octicon-repo-forked"></span>
              Fork
            </button>
            <a href="/spark-mooc/mooc-setup/network" class="social-count">46</a>
</form>        </li>

</ul>

        <h1 itemscope itemtype="http://data-vocabulary.org/Breadcrumb" class="entry-title public">
          <span class="mega-octicon octicon-repo"></span>
          <span class="author"><a href="/spark-mooc" class="url fn" itemprop="url" rel="author"><span itemprop="title">spark-mooc</span></a></span><!--
       --><span class="path-divider">/</span><!--
       --><strong><a href="/spark-mooc/mooc-setup" data-pjax="#js-repo-pjax-container">mooc-setup</a></strong>

          <span class="page-context-loader">
            <img alt="" height="16" src="https://assets-cdn.github.com/images/spinners/octocat-spinner-32.gif" width="16" />
          </span>

        </h1>
      </div><!-- /.container -->
    </div><!-- /.repohead -->

    <div class="container">
      <div class="repository-with-sidebar repo-container new-discussion-timeline  ">
        <div class="repository-sidebar clearfix">
            
<nav class="sunken-menu repo-nav js-repo-nav js-sidenav-container-pjax js-octicon-loaders"
     role="navigation"
     data-pjax="#js-repo-pjax-container"
     data-issue-count-url="/spark-mooc/mooc-setup/issues/counts">
  <ul class="sunken-menu-group">
    <li class="tooltipped tooltipped-w" aria-label="Code">
      <a href="/spark-mooc/mooc-setup" aria-label="Code" class="selected js-selected-navigation-item sunken-menu-item" data-hotkey="g c" data-selected-links="repo_source repo_downloads repo_commits repo_releases repo_tags repo_branches /spark-mooc/mooc-setup">
        <span class="octicon octicon-code"></span> <span class="full-word">Code</span>
        <img alt="" class="mini-loader" height="16" src="https://assets-cdn.github.com/images/spinners/octocat-spinner-32.gif" width="16" />
</a>    </li>

      <li class="tooltipped tooltipped-w" aria-label="Issues">
        <a href="/spark-mooc/mooc-setup/issues" aria-label="Issues" class="js-selected-navigation-item sunken-menu-item" data-hotkey="g i" data-selected-links="repo_issues repo_labels repo_milestones /spark-mooc/mooc-setup/issues">
          <span class="octicon octicon-issue-opened"></span> <span class="full-word">Issues</span>
          <span class="js-issue-replace-counter"></span>
          <img alt="" class="mini-loader" height="16" src="https://assets-cdn.github.com/images/spinners/octocat-spinner-32.gif" width="16" />
</a>      </li>

    <li class="tooltipped tooltipped-w" aria-label="Pull requests">
      <a href="/spark-mooc/mooc-setup/pulls" aria-label="Pull requests" class="js-selected-navigation-item sunken-menu-item" data-hotkey="g p" data-selected-links="repo_pulls /spark-mooc/mooc-setup/pulls">
          <span class="octicon octicon-git-pull-request"></span> <span class="full-word">Pull requests</span>
          <span class="js-pull-replace-counter"></span>
          <img alt="" class="mini-loader" height="16" src="https://assets-cdn.github.com/images/spinners/octocat-spinner-32.gif" width="16" />
</a>    </li>

      <li class="tooltipped tooltipped-w" aria-label="Wiki">
        <a href="/spark-mooc/mooc-setup/wiki" aria-label="Wiki" class="js-selected-navigation-item sunken-menu-item" data-hotkey="g w" data-selected-links="repo_wiki /spark-mooc/mooc-setup/wiki">
          <span class="octicon octicon-book"></span> <span class="full-word">Wiki</span>
          <img alt="" class="mini-loader" height="16" src="https://assets-cdn.github.com/images/spinners/octocat-spinner-32.gif" width="16" />
</a>      </li>
  </ul>
  <div class="sunken-menu-separator"></div>
  <ul class="sunken-menu-group">

    <li class="tooltipped tooltipped-w" aria-label="Pulse">
      <a href="/spark-mooc/mooc-setup/pulse" aria-label="Pulse" class="js-selected-navigation-item sunken-menu-item" data-selected-links="pulse /spark-mooc/mooc-setup/pulse">
        <span class="octicon octicon-pulse"></span> <span class="full-word">Pulse</span>
        <img alt="" class="mini-loader" height="16" src="https://assets-cdn.github.com/images/spinners/octocat-spinner-32.gif" width="16" />
</a>    </li>

    <li class="tooltipped tooltipped-w" aria-label="Graphs">
      <a href="/spark-mooc/mooc-setup/graphs" aria-label="Graphs" class="js-selected-navigation-item sunken-menu-item" data-selected-links="repo_graphs repo_contributors /spark-mooc/mooc-setup/graphs">
        <span class="octicon octicon-graph"></span> <span class="full-word">Graphs</span>
        <img alt="" class="mini-loader" height="16" src="https://assets-cdn.github.com/images/spinners/octocat-spinner-32.gif" width="16" />
</a>    </li>
  </ul>


</nav>

              <div class="only-with-full-nav">
                  
<div class="js-clone-url clone-url open"
  data-protocol-type="http">
  <h3><span class="text-emphasized">HTTPS</span> clone URL</h3>
  <div class="input-group js-zeroclipboard-container">
    <input type="text" class="input-mini input-monospace js-url-field js-zeroclipboard-target"
           value="https://github.com/spark-mooc/mooc-setup.git" readonly="readonly">
    <span class="input-group-button">
      <button aria-label="Copy to clipboard" class="js-zeroclipboard btn btn-sm zeroclipboard-button tooltipped tooltipped-s" data-copied-hint="Copied!" type="button"><span class="octicon octicon-clippy"></span></button>
    </span>
  </div>
</div>

  
<div class="js-clone-url clone-url "
  data-protocol-type="ssh">
  <h3><span class="text-emphasized">SSH</span> clone URL</h3>
  <div class="input-group js-zeroclipboard-container">
    <input type="text" class="input-mini input-monospace js-url-field js-zeroclipboard-target"
           value="git@github.com:spark-mooc/mooc-setup.git" readonly="readonly">
    <span class="input-group-button">
      <button aria-label="Copy to clipboard" class="js-zeroclipboard btn btn-sm zeroclipboard-button tooltipped tooltipped-s" data-copied-hint="Copied!" type="button"><span class="octicon octicon-clippy"></span></button>
    </span>
  </div>
</div>

  
<div class="js-clone-url clone-url "
  data-protocol-type="subversion">
  <h3><span class="text-emphasized">Subversion</span> checkout URL</h3>
  <div class="input-group js-zeroclipboard-container">
    <input type="text" class="input-mini input-monospace js-url-field js-zeroclipboard-target"
           value="https://github.com/spark-mooc/mooc-setup" readonly="readonly">
    <span class="input-group-button">
      <button aria-label="Copy to clipboard" class="js-zeroclipboard btn btn-sm zeroclipboard-button tooltipped tooltipped-s" data-copied-hint="Copied!" type="button"><span class="octicon octicon-clippy"></span></button>
    </span>
  </div>
</div>



<div class="clone-options">You can clone with
  <form accept-charset="UTF-8" action="/users/set_protocol?protocol_selector=http&amp;protocol_type=clone" class="inline-form js-clone-selector-form is-enabled" data-remote="true" method="post"><div style="margin:0;padding:0;display:inline"><input name="utf8" type="hidden" value="&#x2713;" /><input name="authenticity_token" type="hidden" value="c3SIoCRCsEDLC+MGqF8s0Q482NK+u4fmc1FkSAqLIhDkaWvVnPjs2ii9HhsK4wIJGLxrxEe/DckJvomN21ExIQ==" /></div><button class="btn-link js-clone-selector" data-protocol="http" type="submit">HTTPS</button></form>, <form accept-charset="UTF-8" action="/users/set_protocol?protocol_selector=ssh&amp;protocol_type=clone" class="inline-form js-clone-selector-form is-enabled" data-remote="true" method="post"><div style="margin:0;padding:0;display:inline"><input name="utf8" type="hidden" value="&#x2713;" /><input name="authenticity_token" type="hidden" value="GCCzihWMPMS10zcn+ZjL7A0vrljCXrmXlpRWXbOn0vphGfHXoMJERa2H7vngvCy/VAHEzKq3LQKdl3wL02ckTg==" /></div><button class="btn-link js-clone-selector" data-protocol="ssh" type="submit">SSH</button></form>, or <form accept-charset="UTF-8" action="/users/set_protocol?protocol_selector=subversion&amp;protocol_type=clone" class="inline-form js-clone-selector-form is-enabled" data-remote="true" method="post"><div style="margin:0;padding:0;display:inline"><input name="utf8" type="hidden" value="&#x2713;" /><input name="authenticity_token" type="hidden" value="q6iD+wsX+UGbrGvL1/4rtgbNeD+ZsR+jlfYUseq1SXTrjCaR58ujLlbBN4juOcM0OkXojPDErj7Pl4jxYokNiA==" /></div><button class="btn-link js-clone-selector" data-protocol="subversion" type="submit">Subversion</button></form>.
  <a href="https://help.github.com/articles/which-remote-url-should-i-use" class="help tooltipped tooltipped-n" aria-label="Get help on which URL is right for you.">
    <span class="octicon octicon-question"></span>
  </a>
</div>

  <a href="https://mac.github.com" class="btn btn-sm sidebar-button" title="Save spark-mooc/mooc-setup to your computer and use it in GitHub Desktop." aria-label="Save spark-mooc/mooc-setup to your computer and use it in GitHub Desktop.">
    <span class="octicon octicon-device-desktop"></span>
    Clone in Desktop
  </a>



                <a href="/spark-mooc/mooc-setup/archive/master.zip"
                   class="btn btn-sm sidebar-button"
                   aria-label="Download the contents of spark-mooc/mooc-setup as a zip file"
                   title="Download the contents of spark-mooc/mooc-setup as a zip file"
                   rel="nofollow">
                  <span class="octicon octicon-cloud-download"></span>
                  Download ZIP
                </a>
              </div>
        </div><!-- /.repository-sidebar -->

        <div id="js-repo-pjax-container" class="repository-content context-loader-container" data-pjax-container>

          
<div id="compare">
  <div class="file-navigation">
    <div class="breadcrumb">
      History for <span class="repo-root js-repo-root"><span itemscope="" itemtype="http://data-vocabulary.org/Breadcrumb"><a href="/spark-mooc/mooc-setup/commits/master" class="" data-branch="master" data-pjax="true" itemscope="url"><span itemprop="title">mooc-setup</span></a></span></span><span class="separator">/</span><strong class="final-path">lab4_machine_learning_student.ipynb</strong>
    </div>
  </div>

  

  <div class="commits-listing commits-listing-padded js-navigation-container js-active-navigation-container" data-navigation-scroll="page">

    
<div class="commit-group-title">
  <span class="octicon octicon-git-commit"></span>Commits on Jun 28, 2015
</div>

<ol class="commit-group table-list table-list-bordered">
    
<li class="commit commits-list-item table-list-item js-navigation-item js-details-container js-socket-channel js-updatable-content"
      data-channel="spark-mooc/mooc-setup:commit:5b89565bcefb23711583bf2e8ca0d49609b35c8a"
      data-url="/spark-mooc/mooc-setup/commit/5b89565bcefb23711583bf2e8ca0d49609b35c8a/show_partial?partial=commits%2Fcommits_list_item"
    >

  <div class="table-list-cell commit-avatar-cell">
    <div class="avatar-parent-child">
    <a href="/felixcheung" data-skip-pjax="true" rel="contributor"><img alt="@felixcheung" class="avatar" height="36" src="https://avatars3.githubusercontent.com/u/8969467?v=3&amp;s=72" width="36" /></a>
    </div>
  </div>
  <div class="table-list-cell">
    <p class="commit-title ">
        <a href="/spark-mooc/mooc-setup/commit/5b89565bcefb23711583bf2e8ca0d49609b35c8a" class="message" data-pjax="true" title="lab4 - various text fix, small code clarification for 2e, 3d">lab4 - various text fix, small code clarification for 2e, 3d</a>

    
    </p>

    <div class="commit-meta">
        <a href="/spark-mooc/mooc-setup/commits/master/lab4_machine_learning_student.ipynb?author=felixcheung" aria-label="View all commits by Felix Cheung" class="commit-author tooltipped tooltipped-s" rel="contributor">felixcheung</a>
       authored <time datetime="2015-06-27T19:23:27Z" is="relative-time">Jun 27, 2015</time>


    </div>

  </div>
  <div class="commit-links-cell table-list-cell">
    <div class="commit-links-group btn-group">
      <button aria-label="Copy the full SHA" class="js-zeroclipboard btn btn-outline zeroclipboard-button tooltipped tooltipped-s" data-clipboard-text="5b89565bcefb23711583bf2e8ca0d49609b35c8a" data-copied-hint="Copied!" type="button"><span class="octicon octicon-clippy"></span></button>
      <a href="/spark-mooc/mooc-setup/commit/5b89565bcefb23711583bf2e8ca0d49609b35c8a#diff-ed362537e371287da6447969558c7cee" class="sha btn btn-outline">
        5b89565
      </a>
    </div>
    <a href="/spark-mooc/mooc-setup/tree/5b89565bcefb23711583bf2e8ca0d49609b35c8a/lab4_machine_learning_student.ipynb" aria-label="Browse the repository at this point in the history" class="btn btn-outline tooltipped tooltipped-s" rel="nofollow"><span class="octicon octicon-code"></span></a>
  </div>

</li>

    
<li class="commit commits-list-item table-list-item js-navigation-item js-details-container js-socket-channel js-updatable-content"
      data-channel="spark-mooc/mooc-setup:commit:7b95f9f5a37b5ea276a337ace4b601eb6f1b0859"
      data-url="/spark-mooc/mooc-setup/commit/7b95f9f5a37b5ea276a337ace4b601eb6f1b0859/show_partial?partial=commits%2Fcommits_list_item"
    >

  <div class="table-list-cell commit-avatar-cell">
    <div class="avatar-parent-child">
    <a href="/felixcheung" data-skip-pjax="true" rel="contributor"><img alt="@felixcheung" class="avatar" height="36" src="https://avatars3.githubusercontent.com/u/8969467?v=3&amp;s=72" width="36" /></a>
    </div>
  </div>
  <div class="table-list-cell">
    <p class="commit-title ">
        <a href="/spark-mooc/mooc-setup/commit/7b95f9f5a37b5ea276a337ace4b601eb6f1b0859" class="message" data-pjax="true" title="lab4">lab4</a>

    
    </p>

    <div class="commit-meta">
        <a href="/spark-mooc/mooc-setup/commits/master/lab4_machine_learning_student.ipynb?author=felixcheung" aria-label="View all commits by Felix Cheung" class="commit-author tooltipped tooltipped-s" rel="contributor">felixcheung</a>
       authored <time datetime="2015-06-27T16:14:39Z" is="relative-time">Jun 27, 2015</time>


    </div>

  </div>
  <div class="commit-links-cell table-list-cell">
    <div class="commit-links-group btn-group">
      <button aria-label="Copy the full SHA" class="js-zeroclipboard btn btn-outline zeroclipboard-button tooltipped tooltipped-s" data-clipboard-text="7b95f9f5a37b5ea276a337ace4b601eb6f1b0859" data-copied-hint="Copied!" type="button"><span class="octicon octicon-clippy"></span></button>
      <a href="/spark-mooc/mooc-setup/commit/7b95f9f5a37b5ea276a337ace4b601eb6f1b0859#diff-ed362537e371287da6447969558c7cee" class="sha btn btn-outline">
        7b95f9f
      </a>
    </div>
    <a href="/spark-mooc/mooc-setup/tree/7b95f9f5a37b5ea276a337ace4b601eb6f1b0859/lab4_machine_learning_student.ipynb" aria-label="Browse the repository at this point in the history" class="btn btn-outline tooltipped tooltipped-s" rel="nofollow"><span class="octicon octicon-code"></span></a>
  </div>

</li>

</ol>


  </div>



    <div class="paginate-container" data-pjax>
      
    </div>

</div>

        </div>

      </div><!-- /.repo-container -->
      <div class="modal-backdrop"></div>
    </div><!-- /.container -->
  </div><!-- /.site -->


    </div><!-- /.wrapper -->

      <div class="container">
  <div class="site-footer" role="contentinfo">
    <ul class="site-footer-links right">
        <li><a href="https://status.github.com/" data-ga-click="Footer, go to status, text:status">Status</a></li>
      <li><a href="https://developer.github.com" data-ga-click="Footer, go to api, text:api">API</a></li>
      <li><a href="https://training.github.com" data-ga-click="Footer, go to training, text:training">Training</a></li>
      <li><a href="https://shop.github.com" data-ga-click="Footer, go to shop, text:shop">Shop</a></li>
        <li><a href="https://github.com/blog" data-ga-click="Footer, go to blog, text:blog">Blog</a></li>
        <li><a href="https://github.com/about" data-ga-click="Footer, go to about, text:about">About</a></li>
      <li><a href="https://help.github.com" data-ga-click="Footer, go to help, text:help">Help</a></li>

    </ul>

    <a href="https://github.com" aria-label="Homepage">
      <span class="mega-octicon octicon-mark-github" title="GitHub"></span>
</a>
    <ul class="site-footer-links">
      <li>&copy; 2015 <span title="0.07428s from github-fe138-cp1-prd.iad.github.net">GitHub</span>, Inc.</li>
        <li><a href="https://github.com/site/terms" data-ga-click="Footer, go to terms, text:terms">Terms</a></li>
        <li><a href="https://github.com/site/privacy" data-ga-click="Footer, go to privacy, text:privacy">Privacy</a></li>
        <li><a href="https://github.com/security" data-ga-click="Footer, go to security, text:security">Security</a></li>
        <li><a href="https://github.com/contact" data-ga-click="Footer, go to contact, text:contact">Contact</a></li>
    </ul>
  </div>
</div>


    <div class="fullscreen-overlay js-fullscreen-overlay" id="fullscreen_overlay">
  <div class="fullscreen-container js-suggester-container">
    <div class="textarea-wrap">
      <textarea name="fullscreen-contents" id="fullscreen-contents" class="fullscreen-contents js-fullscreen-contents" placeholder=""></textarea>
      <div class="suggester-container">
        <div class="suggester fullscreen-suggester js-suggester js-navigation-container"></div>
      </div>
    </div>
  </div>
  <div class="fullscreen-sidebar">
    <a href="#" class="exit-fullscreen js-exit-fullscreen tooltipped tooltipped-w" aria-label="Exit Zen Mode">
      <span class="mega-octicon octicon-screen-normal"></span>
    </a>
    <a href="#" class="theme-switcher js-theme-switcher tooltipped tooltipped-w"
      aria-label="Switch themes">
      <span class="octicon octicon-color-mode"></span>
    </a>
  </div>
</div>



    
    

    <div id="ajax-error-message" class="flash flash-error">
      <span class="octicon octicon-alert"></span>
      <a href="#" class="octicon octicon-x flash-close js-ajax-error-dismiss" aria-label="Dismiss error"></a>
      Something went wrong with that request. Please try again.
    </div>


      <script crossorigin="anonymous" src="https://assets-cdn.github.com/assets/frameworks-808fcfcd63c9ecba3e84453f540cb1cbafde48c6b30c1d51ebd4e67e88ff66bd.js"></script>
      <script async="async" crossorigin="anonymous" src="https://assets-cdn.github.com/assets/github/index-4f888c77edb689a0c50e2edbc2d7ae11518355eff0bfeac3ab0a110ca10eddf9.js"></script>
      
      
  </body>
</html>

